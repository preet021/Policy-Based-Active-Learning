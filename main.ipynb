{
 "cells": [
  {
   "cell_type": "code",
   "execution_count": 1,
   "metadata": {},
   "outputs": [],
   "source": [
    "import math\n",
    "import random\n",
    "import copy\n",
    "import numpy as np\n",
    "import matplotlib\n",
    "import matplotlib.pyplot as plt\n",
    "from collections import namedtuple, deque\n",
    "from itertools import count\n",
    "from sklearn.metrics import accuracy_score\n",
    "\n",
    "import torch\n",
    "import torch.nn as nn\n",
    "import torch.optim as optim\n",
    "import torch.nn.functional as F\n",
    "import torchvision.transforms as T"
   ]
  },
  {
   "cell_type": "code",
   "execution_count": 2,
   "metadata": {},
   "outputs": [
    {
     "name": "stdout",
     "output_type": "stream",
     "text": [
      "(6000, 784) (1000, 784)\n",
      "(6000,) (1000,)\n"
     ]
    }
   ],
   "source": [
    "def read_data(filename):\n",
    "    with open(filename, 'r') as f:\n",
    "        lines = f.readlines()\n",
    "    \n",
    "    num_points = len(lines)\n",
    "    dim_points = 28 * 28\n",
    "    data = np.empty((num_points, dim_points))\n",
    "    labels = np.empty(num_points)\n",
    "    \n",
    "    for ind, line in enumerate(lines):\n",
    "        num = line.split(',')\n",
    "        labels[ind] = int(num[0])\n",
    "        data[ind] = [ int(x) for x in num[1:] ]\n",
    "        \n",
    "    return (data, labels)\n",
    "\n",
    "train_data, train_labels = read_data(\"sample_train.csv\")\n",
    "test_data, test_labels = read_data(\"sample_test.csv\")\n",
    "print(train_data.shape, test_data.shape)\n",
    "print(train_labels.shape, test_labels.shape)"
   ]
  },
  {
   "cell_type": "code",
   "execution_count": 3,
   "metadata": {},
   "outputs": [],
   "source": [
    "class DQN(nn.Module):\n",
    "    def __init__(self, in_features):\n",
    "        super(DQN, self).__init__()\n",
    "        self.fc1 = nn.Linear(in_features=in_features, out_features=1024)\n",
    "        self.fc2 = nn.Linear(in_features=1024, out_features=32)\n",
    "        self.fc3 = nn.Linear(in_features=32, out_features=2)\n",
    "\n",
    "    def forward(self, t):\n",
    "        t = F.relu(self.fc1(t))\n",
    "        t = F.relu(self.fc2(t))\n",
    "        t = self.fc3(t)\n",
    "        return t\n",
    "\n",
    "Transition = namedtuple('Transition', ('state', 'action', 'next_state', 'reward'))\n",
    "\n",
    "class ReplayMemory(object):\n",
    "    def __init__(self, capacity):\n",
    "        self.memory = deque([],maxlen=capacity)\n",
    "\n",
    "    def push(self, *args):\n",
    "        self.memory.append(Transition(*args))\n",
    "\n",
    "    def sample(self, batch_size):\n",
    "        return random.sample(self.memory, batch_size)\n",
    "\n",
    "    def can_provide_sample(self, batch_size):\n",
    "        return len(self.memory) >= batch_size\n",
    "\n",
    "    def __len__(self):\n",
    "        return len(self.memory)\n",
    "\n",
    "class EpsilonGreedyStrategy():\n",
    "    def __init__(self, start, end, decay):\n",
    "        self.start = start\n",
    "        self.end = end\n",
    "        self.decay = decay\n",
    "\n",
    "    def get_exploration_rate(self, current_step):\n",
    "        return self.end + (self.start - self.end) * math.exp(-1. * current_step * self.decay)"
   ]
  },
  {
   "cell_type": "code",
   "execution_count": 4,
   "metadata": {},
   "outputs": [],
   "source": [
    "class Net(nn.Module):\n",
    "    def __init__(self, n_features):\n",
    "        super(Net, self).__init__()\n",
    "        self.fc1 = nn.Linear(n_features, 128)\n",
    "        self.fc2 = nn.Linear(128, 64)\n",
    "        self.fc3 = nn.Linear(64, 10)\n",
    "\n",
    "    def forward(self, x):\n",
    "        x = F.relu(self.fc1(x))\n",
    "        x = F.relu(self.fc2(x))\n",
    "        return F.log_softmax(self.fc3(x))\n",
    "\n",
    "def train(model, optimizer, X, criterion=nn.NLLLoss()):\n",
    "    epochs = 1\n",
    "    batch_size = 64\n",
    "    for e in range(epochs):\n",
    "        running_loss = 0\n",
    "        num_batches = 0\n",
    "        order = np.copy(X)\n",
    "        np.random.shuffle(order)\n",
    "        i = 0\n",
    "        while i < len(X):\n",
    "            j = min(i + batch_size, len(X))\n",
    "            images = train_data[order[i:j], :]\n",
    "            labels = torch.Tensor(train_labels[order[i:j]]).long()\n",
    "            optimizer.zero_grad()\n",
    "            output = model(torch.from_numpy(images).float())\n",
    "            loss = F.nll_loss(output, labels)\n",
    "            loss.backward()\n",
    "            optimizer.step()\n",
    "            running_loss += loss.item()\n",
    "            num_batches += 1\n",
    "            i += batch_size\n",
    "\n",
    "def predict(model):\n",
    "    with torch.no_grad():\n",
    "        output = model(torch.from_numpy(test_data).float())\n",
    "    softmax = torch.exp(torch.Tensor(output))\n",
    "    prob = softmax.numpy()\n",
    "    predictions = np.argmax(prob, axis=1)\n",
    "    return accuracy_score(test_labels, predictions)"
   ]
  },
  {
   "cell_type": "code",
   "execution_count": 5,
   "metadata": {},
   "outputs": [],
   "source": [
    "batch_size = 64\n",
    "gamma = 0.999\n",
    "eps_start = 1\n",
    "eps_end = 0.01\n",
    "eps_decay = 0.0001\n",
    "memory_size = 1000\n",
    "num_episodes = 5\n",
    "state_len = 10 + 784\n",
    "budget = 1000\n",
    "strategy = EpsilonGreedyStrategy(eps_start, eps_end, eps_decay)\n",
    "memory = ReplayMemory(memory_size)\n",
    "dqnet = DQN(state_len)\n",
    "target_dqnet = DQN(state_len)\n",
    "target_dqnet.load_state_dict(dqnet.state_dict())\n",
    "dqnet_optimizer = optim.Adam(dqnet.parameters(), lr=5e-3)\n",
    "num_actions = 2\n",
    "current_step = 0\n",
    "target_update = 8"
   ]
  },
  {
   "cell_type": "code",
   "execution_count": 6,
   "metadata": {},
   "outputs": [],
   "source": [
    "def dqn_train(model, target_model, optimizer, mini_batch):\n",
    "    criterion = nn.MSELoss()\n",
    "    optimizer.zero_grad()\n",
    "    states = np.array([exp[0] for exp in mini_batch])\n",
    "    actions = torch.Tensor([[exp[1]] for exp in mini_batch]).long()\n",
    "    rewards = torch.Tensor([exp[2] for exp in mini_batch])\n",
    "    next_states = torch.Tensor([exp[3] for exp in mini_batch])\n",
    "    output = model(torch.from_numpy(states).float())\n",
    "    predicted = torch.gather(output, 1, actions).squeeze()\n",
    "    with torch.no_grad():\n",
    "        labels_next = target_model(next_states).detach().max(1).values\n",
    "    labels = rewards + gamma * labels_next\n",
    "    loss = criterion(predicted, labels)\n",
    "    loss.backward()\n",
    "    optimizer.step()\n",
    "\n",
    "def select_action(state, model, current_step):\n",
    "    eps = strategy.get_exploration_rate(current_step)\n",
    "    if random.random() < eps:\n",
    "        return random.randrange(num_actions)\n",
    "    else:\n",
    "        with torch.no_grad():\n",
    "            a = model(torch.from_numpy(state).float()).argmax().item()\n",
    "        return a"
   ]
  },
  {
   "cell_type": "code",
   "execution_count": 7,
   "metadata": {
    "scrolled": true
   },
   "outputs": [
    {
     "name": "stderr",
     "output_type": "stream",
     "text": [
      "/usr/lib/python3/dist-packages/ipykernel_launcher.py:11: UserWarning: Implicit dimension choice for log_softmax has been deprecated. Change the call to include dim=X as an argument.\n",
      "  # This is added back by InteractiveShellApp.init_path()\n"
     ]
    }
   ],
   "source": [
    "order = list(range(0, train_data.shape[0]))\n",
    "X_labelled = []\n",
    "random.shuffle(order)\n",
    "for _ in range(num_episodes):\n",
    "    memory.memory.clear()\n",
    "    i = 0\n",
    "    model = Net(28 * 28)\n",
    "    model_optimizer = optim.SGD(model.parameters(), lr=1e-5, momentum=0.9)\n",
    "    prev_acc = 0\n",
    "    for j in range(train_data.shape[0]):\n",
    "        sample = train_data[order[j]]\n",
    "        part1 = np.copy(sample)\n",
    "        with torch.no_grad():\n",
    "            part2 = model(torch.from_numpy(sample).float()).detach().numpy()\n",
    "            part2 = np.exp(part2)\n",
    "            part2 = part2 / np.sum(part2)\n",
    "        state = np.concatenate((part1, part2))\n",
    "        \n",
    "        a = select_action(state, dqnet, current_step)\n",
    "        current_step += 1\n",
    "        queried = False\n",
    "        if a == 1:\n",
    "            queried = True\n",
    "            X_labelled.append(order[j])\n",
    "            i += 1\n",
    "            if i % 16 == 0:\n",
    "                train(model, model_optimizer, X_labelled)\n",
    "        if queried:\n",
    "            acc = predict(model)\n",
    "            r = acc - prev_acc\n",
    "            prev_acc = acc\n",
    "        else:\n",
    "            r = 0\n",
    "        if i == budget:\n",
    "            X_labelled = []\n",
    "            random.shuffle(order)\n",
    "            sample = train_data[order[0]]\n",
    "            part1 = np.copy(sample)\n",
    "            with torch.no_grad():\n",
    "                part2 = model(torch.from_numpy(sample).float()).detach().numpy()\n",
    "                part2 = np.exp(part2)\n",
    "                part2 = part2 / np.sum(part2)\n",
    "            new_state = np.concatenate((part1, part2))\n",
    "            memory.push(state, a, r, new_state)\n",
    "            break\n",
    "        \n",
    "        sample = train_data[order[j + 1]]\n",
    "        part1 = np.copy(sample)\n",
    "        with torch.no_grad():\n",
    "            part2 = model(torch.from_numpy(sample).float()).detach().numpy()\n",
    "            part2 = np.exp(part2)\n",
    "            part2 = part2 / np.sum(part2)\n",
    "        new_state = np.concatenate((part1, part2))\n",
    "        memory.push(state, a, r, new_state)\n",
    "        if memory.can_provide_sample(batch_size):\n",
    "            mini_batch = memory.sample(batch_size)\n",
    "            dqn_train(dqnet, target_dqnet, dqnet_optimizer, mini_batch)\n",
    "        if j % target_update == 0:\n",
    "            target_dqnet.load_state_dict(dqnet.state_dict())\n",
    "    if i < budget:\n",
    "        X_labelled = []\n",
    "        random.shuffle(order)"
   ]
  },
  {
   "cell_type": "code",
   "execution_count": 8,
   "metadata": {},
   "outputs": [],
   "source": [
    "train_data1, train_labels1 = read_data(\"sample_train.csv\")\n",
    "test_data1, test_labels1 = read_data(\"sample_test.csv\")"
   ]
  },
  {
   "cell_type": "code",
   "execution_count": 43,
   "metadata": {},
   "outputs": [],
   "source": [
    "def train1(model, optimizer, train_data1, train_labels1, plotdata):\n",
    "    epochs = 1\n",
    "    batch_size = 4\n",
    "    for e in range(epochs):\n",
    "        print(e)\n",
    "        order = np.arange(train_data1.shape[0])\n",
    "        np.random.shuffle(order)\n",
    "        i = 0\n",
    "        while i < train_data1.shape[0]:\n",
    "            j = min(i + batch_size, train_data1.shape[0])\n",
    "            images = train_data1[order[i:j], :]\n",
    "            labels = torch.Tensor(train_labels1[order[i:j]]).long()\n",
    "            optimizer.zero_grad()\n",
    "            output = model(torch.from_numpy(images).float())\n",
    "            prob = np.copy(output.detach().numpy())\n",
    "            loss = F.nll_loss(output, labels)\n",
    "            loss.backward()\n",
    "            optimizer.step()\n",
    "            i += batch_size\n",
    "            with torch.no_grad():\n",
    "                output = model(torch.from_numpy(test_data1).float())\n",
    "            softmax = torch.exp(torch.Tensor(output))\n",
    "            prob = list(softmax.numpy())\n",
    "            predictions = np.argmax(prob, axis=1)\n",
    "            if i % 300 == 0:\n",
    "                plotdata.append([i + 1, accuracy_score(test_labels1, predictions)])\n",
    "            \n",
    "def train_AL(model, optimizer, train_data1, train_labels1, plotdata):\n",
    "    epochs = 1\n",
    "    for e in range(epochs):\n",
    "        print(e)\n",
    "        running_loss = 0\n",
    "        num_batches = 0\n",
    "        order = np.arange(train_data1.shape[0])\n",
    "        np.random.shuffle(order)\n",
    "        i = 0\n",
    "        while i < train_data1.shape[0]:\n",
    "            image = train_data1[order[i:i+1], :]\n",
    "            part1 = np.copy(image[0])\n",
    "            model.eval()\n",
    "            with torch.no_grad():\n",
    "                part2 = model(torch.from_numpy(image).float()).squeeze().detach().numpy()\n",
    "            model.train()\n",
    "            state = np.concatenate((part1, part2))\n",
    "            a = select_action(state, dqnet, 1e9)\n",
    "            if a == 1:\n",
    "                label = torch.Tensor(train_labels1[order[i:i+1]]).long()\n",
    "                optimizer.zero_grad()\n",
    "                output = model(torch.from_numpy(image).float())\n",
    "                prob = np.copy(output.detach().numpy())\n",
    "                loss = F.nll_loss(output, label)\n",
    "                loss.backward()\n",
    "                optimizer.step()\n",
    "                running_loss += loss.item()\n",
    "            i += 1\n",
    "            with torch.no_grad():\n",
    "                output = model2(torch.from_numpy(test_data1).float())\n",
    "            softmax = torch.exp(torch.Tensor(output))\n",
    "            prob = list(softmax.numpy())\n",
    "            predictions = np.argmax(prob, axis=1)\n",
    "            if i % 300 == 0:\n",
    "                plotdata.append([i + 1, accuracy_score(test_labels1, predictions)])\n",
    "\n",
    "def read_data(filename):\n",
    "    with open(filename, 'r') as f:\n",
    "        lines = f.readlines()\n",
    "    \n",
    "    num_points = len(lines)\n",
    "    dim_points = 28 * 28\n",
    "    data = np.empty((num_points, dim_points))\n",
    "    labels = np.empty(num_points)\n",
    "    \n",
    "    for ind, line in enumerate(lines):\n",
    "        num = line.split(',')\n",
    "        labels[ind] = int(num[0])\n",
    "        data[ind] = [ int(x) for x in num[1:] ]\n",
    "        \n",
    "    return (data, labels)"
   ]
  },
  {
   "cell_type": "code",
   "execution_count": 44,
   "metadata": {},
   "outputs": [
    {
     "name": "stdout",
     "output_type": "stream",
     "text": [
      "0\n"
     ]
    },
    {
     "name": "stderr",
     "output_type": "stream",
     "text": [
      "/usr/lib/python3/dist-packages/ipykernel_launcher.py:11: UserWarning: Implicit dimension choice for log_softmax has been deprecated. Change the call to include dim=X as an argument.\n",
      "  # This is added back by InteractiveShellApp.init_path()\n"
     ]
    }
   ],
   "source": [
    "model1 = Net(28 * 28)\n",
    "model1_optimizer = optim.SGD(model1.parameters(), lr=1e-5, momentum=0.9)\n",
    "D1 = []\n",
    "train1(model1, model1_optimizer, train_data1, train_labels1, D1)"
   ]
  },
  {
   "cell_type": "code",
   "execution_count": 45,
   "metadata": {},
   "outputs": [
    {
     "name": "stdout",
     "output_type": "stream",
     "text": [
      "0\n"
     ]
    },
    {
     "name": "stderr",
     "output_type": "stream",
     "text": [
      "/usr/lib/python3/dist-packages/ipykernel_launcher.py:11: UserWarning: Implicit dimension choice for log_softmax has been deprecated. Change the call to include dim=X as an argument.\n",
      "  # This is added back by InteractiveShellApp.init_path()\n"
     ]
    }
   ],
   "source": [
    "model2 = Net(28 * 28)\n",
    "model2_optimizer = optim.SGD(model2.parameters(), lr=1e-5, momentum=0.9)\n",
    "D2 = []\n",
    "train_AL(model2, model2_optimizer, train_data1, train_labels1, D2)"
   ]
  },
  {
   "cell_type": "code",
   "execution_count": 58,
   "metadata": {
    "scrolled": true
   },
   "outputs": [
    {
     "name": "stderr",
     "output_type": "stream",
     "text": [
      "/usr/lib/python3/dist-packages/ipykernel_launcher.py:12: MatplotlibDeprecationWarning: Adding an axes using the same arguments as a previous axes currently reuses the earlier instance.  In a future version, a new instance will always be created and returned.  Meanwhile, this warning can be suppressed, and the future behavior ensured, by passing a unique label to each axes instance.\n",
      "  if sys.path[0] == '':\n"
     ]
    },
    {
     "data": {
      "image/png": "[encoded data removed]",
      "text/plain": [
       "<Figure size 432x288 with 1 Axes>"
      ]
     },
     "metadata": {},
     "output_type": "display_data"
    }
   ],
   "source": [
    "x1 = [item[0] for item in D1]\n",
    "y1 = [item[1] for item in D1]\n",
    "x2 = [item[0] for item in D2]\n",
    "y2 = [item[1] for item in D2]\n",
    "plt.plot(x1, y1, 'rs-', label='Passive Learning')\n",
    "plt.plot(x2, y2, 'cP-', label='Active Learning')\n",
    "plt.title('Model: DQN        Dataset: MNIST')\n",
    "plt.xlabel('Number of instances labelled by human oracle')\n",
    "plt.ylabel('Accuracy score')\n",
    "plt.legend()\n",
    "plt.tight_layout()\n",
    "ax = plt.axes()\n",
    "ax.set_facecolor('beige')\n",
    "plt.savefig('plot.png')\n",
    "plt.show()"
   ]
  }
 ],
 "metadata": {
  "kernelspec": {
   "display_name": "Python 3",
   "language": "python",
   "name": "python3"
  },
  "language_info": {
   "codemirror_mode": {
    "name": "ipython",
    "version": 3
   },
   "file_extension": ".py",
   "mimetype": "text/x-python",
   "name": "python",
   "nbconvert_exporter": "python",
   "pygments_lexer": "ipython3",
   "version": "3.6.9"
  }
 },
 "nbformat": 4,
 "nbformat_minor": 2
}
